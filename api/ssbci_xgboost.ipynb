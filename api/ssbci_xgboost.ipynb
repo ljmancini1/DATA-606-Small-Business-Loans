{
 "cells": [
  {
   "cell_type": "code",
   "execution_count": 1,
   "id": "5009a1cb",
   "metadata": {},
   "outputs": [
    {
     "name": "stdout",
     "output_type": "stream",
     "text": [
      "Requirement already satisfied: xgboost in c:\\users\\ljman\\anaconda3\\lib\\site-packages (1.6.1)\n",
      "Requirement already satisfied: numpy in c:\\users\\ljman\\anaconda3\\lib\\site-packages (from xgboost) (1.20.3)\n",
      "Requirement already satisfied: scipy in c:\\users\\ljman\\anaconda3\\lib\\site-packages (from xgboost) (1.7.1)\n",
      "Note: you may need to restart the kernel to use updated packages.\n"
     ]
    }
   ],
   "source": [
    "pip install xgboost"
   ]
  },
  {
   "cell_type": "code",
   "execution_count": 4,
   "id": "3004c501",
   "metadata": {},
   "outputs": [],
   "source": [
    "import pandas as pd\n",
    "import xgboost as xgb\n",
    "from sklearn.metrics import accuracy_score\n",
    "from sklearn.model_selection import train_test_split"
   ]
  },
  {
   "cell_type": "code",
   "execution_count": 5,
   "id": "0e1502dd",
   "metadata": {},
   "outputs": [
    {
     "data": {
      "text/html": [
       "<div>\n",
       "<style scoped>\n",
       "    .dataframe tbody tr th:only-of-type {\n",
       "        vertical-align: middle;\n",
       "    }\n",
       "\n",
       "    .dataframe tbody tr th {\n",
       "        vertical-align: top;\n",
       "    }\n",
       "\n",
       "    .dataframe thead th {\n",
       "        text-align: right;\n",
       "    }\n",
       "</style>\n",
       "<table border=\"1\" class=\"dataframe\">\n",
       "  <thead>\n",
       "    <tr style=\"text-align: right;\">\n",
       "      <th></th>\n",
       "      <th>program_type</th>\n",
       "      <th>loan_investment_amount</th>\n",
       "      <th>ssbci_original_funds</th>\n",
       "      <th>nonprivate_amount</th>\n",
       "      <th>concurrent_private_financing</th>\n",
       "      <th>guaranteed_amount</th>\n",
       "      <th>collateral_support</th>\n",
       "      <th>ssbci_recycled_funds</th>\n",
       "      <th>subsequent_private_financing</th>\n",
       "      <th>metro_type</th>\n",
       "      <th>LMI_type</th>\n",
       "      <th>revenue</th>\n",
       "      <th>naics_code</th>\n",
       "      <th>year_incorporated</th>\n",
       "      <th>jobs_retained</th>\n",
       "      <th>trans_type</th>\n",
       "      <th>CDFI_type</th>\n",
       "      <th>SPY_Close</th>\n",
       "      <th>U_Rate</th>\n",
       "      <th>creation_status</th>\n",
       "    </tr>\n",
       "  </thead>\n",
       "  <tbody>\n",
       "    <tr>\n",
       "      <th>0</th>\n",
       "      <td>4</td>\n",
       "      <td>180000.0</td>\n",
       "      <td>90000.0</td>\n",
       "      <td>0.0</td>\n",
       "      <td>0.0</td>\n",
       "      <td>0.0</td>\n",
       "      <td>0.0</td>\n",
       "      <td>0.0</td>\n",
       "      <td>0.0</td>\n",
       "      <td>0</td>\n",
       "      <td>1</td>\n",
       "      <td>0.0</td>\n",
       "      <td>681</td>\n",
       "      <td>103</td>\n",
       "      <td>1.0</td>\n",
       "      <td>1</td>\n",
       "      <td>2</td>\n",
       "      <td>152.110001</td>\n",
       "      <td>7.5</td>\n",
       "      <td>1.0</td>\n",
       "    </tr>\n",
       "    <tr>\n",
       "      <th>1</th>\n",
       "      <td>4</td>\n",
       "      <td>2400000.0</td>\n",
       "      <td>250000.0</td>\n",
       "      <td>0.0</td>\n",
       "      <td>0.0</td>\n",
       "      <td>0.0</td>\n",
       "      <td>0.0</td>\n",
       "      <td>0.0</td>\n",
       "      <td>1520000.0</td>\n",
       "      <td>0</td>\n",
       "      <td>0</td>\n",
       "      <td>0.0</td>\n",
       "      <td>439</td>\n",
       "      <td>102</td>\n",
       "      <td>0.0</td>\n",
       "      <td>1</td>\n",
       "      <td>2</td>\n",
       "      <td>167.509995</td>\n",
       "      <td>7.3</td>\n",
       "      <td>1.0</td>\n",
       "    </tr>\n",
       "    <tr>\n",
       "      <th>2</th>\n",
       "      <td>4</td>\n",
       "      <td>265000.0</td>\n",
       "      <td>110000.0</td>\n",
       "      <td>0.0</td>\n",
       "      <td>0.0</td>\n",
       "      <td>0.0</td>\n",
       "      <td>0.0</td>\n",
       "      <td>0.0</td>\n",
       "      <td>0.0</td>\n",
       "      <td>0</td>\n",
       "      <td>1</td>\n",
       "      <td>0.0</td>\n",
       "      <td>681</td>\n",
       "      <td>103</td>\n",
       "      <td>5.0</td>\n",
       "      <td>1</td>\n",
       "      <td>2</td>\n",
       "      <td>183.820007</td>\n",
       "      <td>6.7</td>\n",
       "      <td>1.0</td>\n",
       "    </tr>\n",
       "    <tr>\n",
       "      <th>3</th>\n",
       "      <td>4</td>\n",
       "      <td>199500.0</td>\n",
       "      <td>99750.0</td>\n",
       "      <td>0.0</td>\n",
       "      <td>0.0</td>\n",
       "      <td>0.0</td>\n",
       "      <td>0.0</td>\n",
       "      <td>0.0</td>\n",
       "      <td>0.0</td>\n",
       "      <td>0</td>\n",
       "      <td>1</td>\n",
       "      <td>0.0</td>\n",
       "      <td>378</td>\n",
       "      <td>104</td>\n",
       "      <td>0.0</td>\n",
       "      <td>1</td>\n",
       "      <td>2</td>\n",
       "      <td>181.509995</td>\n",
       "      <td>6.2</td>\n",
       "      <td>1.0</td>\n",
       "    </tr>\n",
       "    <tr>\n",
       "      <th>4</th>\n",
       "      <td>4</td>\n",
       "      <td>125000.0</td>\n",
       "      <td>62500.0</td>\n",
       "      <td>0.0</td>\n",
       "      <td>125000.0</td>\n",
       "      <td>0.0</td>\n",
       "      <td>0.0</td>\n",
       "      <td>0.0</td>\n",
       "      <td>0.0</td>\n",
       "      <td>0</td>\n",
       "      <td>0</td>\n",
       "      <td>1494916.0</td>\n",
       "      <td>519</td>\n",
       "      <td>97</td>\n",
       "      <td>0.0</td>\n",
       "      <td>1</td>\n",
       "      <td>2</td>\n",
       "      <td>187.399994</td>\n",
       "      <td>6.3</td>\n",
       "      <td>1.0</td>\n",
       "    </tr>\n",
       "  </tbody>\n",
       "</table>\n",
       "</div>"
      ],
      "text/plain": [
       "   program_type  loan_investment_amount  ssbci_original_funds  \\\n",
       "0             4                180000.0               90000.0   \n",
       "1             4               2400000.0              250000.0   \n",
       "2             4                265000.0              110000.0   \n",
       "3             4                199500.0               99750.0   \n",
       "4             4                125000.0               62500.0   \n",
       "\n",
       "   nonprivate_amount  concurrent_private_financing  guaranteed_amount  \\\n",
       "0                0.0                           0.0                0.0   \n",
       "1                0.0                           0.0                0.0   \n",
       "2                0.0                           0.0                0.0   \n",
       "3                0.0                           0.0                0.0   \n",
       "4                0.0                      125000.0                0.0   \n",
       "\n",
       "   collateral_support  ssbci_recycled_funds  subsequent_private_financing  \\\n",
       "0                 0.0                   0.0                           0.0   \n",
       "1                 0.0                   0.0                     1520000.0   \n",
       "2                 0.0                   0.0                           0.0   \n",
       "3                 0.0                   0.0                           0.0   \n",
       "4                 0.0                   0.0                           0.0   \n",
       "\n",
       "   metro_type  LMI_type    revenue  naics_code  year_incorporated  \\\n",
       "0           0         1        0.0         681                103   \n",
       "1           0         0        0.0         439                102   \n",
       "2           0         1        0.0         681                103   \n",
       "3           0         1        0.0         378                104   \n",
       "4           0         0  1494916.0         519                 97   \n",
       "\n",
       "   jobs_retained  trans_type  CDFI_type   SPY_Close  U_Rate  creation_status  \n",
       "0            1.0           1          2  152.110001     7.5              1.0  \n",
       "1            0.0           1          2  167.509995     7.3              1.0  \n",
       "2            5.0           1          2  183.820007     6.7              1.0  \n",
       "3            0.0           1          2  181.509995     6.2              1.0  \n",
       "4            0.0           1          2  187.399994     6.3              1.0  "
      ]
     },
     "execution_count": 5,
     "metadata": {},
     "output_type": "execute_result"
    }
   ],
   "source": [
    "df = pd.read_csv(\"SSBCI_data.csv\")\n",
    "df.drop(['state_id','full_time_employees', 'Unnamed: 0','borrower_insurance_premium',\n",
    "         'lender_insurance_premium','jobs_created','job_benefit'], axis=1, inplace=True)\n",
    "df.head()"
   ]
  },
  {
   "cell_type": "code",
   "execution_count": 6,
   "id": "e9498f60",
   "metadata": {},
   "outputs": [],
   "source": [
    "X = df.copy()\n",
    "X.drop(\"creation_status\", inplace = True, axis = 1)\n",
    "Y = df.creation_status"
   ]
  },
  {
   "cell_type": "code",
   "execution_count": 7,
   "id": "df476570",
   "metadata": {},
   "outputs": [],
   "source": [
    "#X_train, X_test = X[:int(X.shape[0]*0.8)].values, X[int(X.shape[0]*0.8):].values\n",
    "#Y_train, Y_test = Y[:int(X.shape[0]*0.8)].values, Y[int(X.shape[0]*0.8):].values\n",
    "\n",
    "X_train, X_test, Y_train, Y_test = train_test_split(X, Y,\n",
    "test_size=0.33, random_state=42)\n"
   ]
  },
  {
   "cell_type": "code",
   "execution_count": 8,
   "id": "6411716d",
   "metadata": {},
   "outputs": [],
   "source": [
    "train = xgb.DMatrix(X_train, label = Y_train)\n",
    "test = xgb.DMatrix(X_test, label = Y_test)"
   ]
  },
  {
   "cell_type": "code",
   "execution_count": 21,
   "id": "a16ecb28-3a9f-42b2-a8df-f8283e0591ce",
   "metadata": {},
   "outputs": [
    {
     "ename": "AttributeError",
     "evalue": "'DMatrix' object has no attribute 'print'",
     "output_type": "error",
     "traceback": [
      "\u001b[1;31m---------------------------------------------------------------------------\u001b[0m",
      "\u001b[1;31mAttributeError\u001b[0m                            Traceback (most recent call last)",
      "\u001b[1;32m~\\AppData\\Local\\Temp/ipykernel_18000/195932822.py\u001b[0m in \u001b[0;36m<module>\u001b[1;34m\u001b[0m\n\u001b[1;32m----> 1\u001b[1;33m \u001b[0mtest\u001b[0m\u001b[1;33m.\u001b[0m\u001b[0mprint\u001b[0m\u001b[1;33m\u001b[0m\u001b[1;33m\u001b[0m\u001b[0m\n\u001b[0m",
      "\u001b[1;31mAttributeError\u001b[0m: 'DMatrix' object has no attribute 'print'"
     ]
    }
   ],
   "source": []
  },
  {
   "cell_type": "code",
   "execution_count": 9,
   "id": "1c28bde4",
   "metadata": {},
   "outputs": [],
   "source": [
    "param = {'max_depth' : 20, 'eta' : 0.3, 'verbosity' : 0, 'objective' : 'binary:hinge', \n",
    "         'eval_metric': 'aucpr', 'predictor':'gpu_predictor'}\n",
    "num_rounds = 5\n",
    "model = xgb.train(param, train, num_rounds)"
   ]
  },
  {
   "cell_type": "code",
   "execution_count": 10,
   "id": "353a7d71",
   "metadata": {},
   "outputs": [],
   "source": [
    "preds = model.predict(test)"
   ]
  },
  {
   "cell_type": "code",
   "execution_count": 11,
   "id": "c9212188",
   "metadata": {},
   "outputs": [],
   "source": [
    "import pickle\n",
    "pickle.dump(model, open(\"model.dat\", \"wb\"))\n",
    "\n",
    "model.save_model(\"model.json\")"
   ]
  },
  {
   "cell_type": "code",
   "execution_count": 12,
   "id": "67c82564",
   "metadata": {},
   "outputs": [
    {
     "name": "stdout",
     "output_type": "stream",
     "text": [
      "Confusion matrix\n",
      "[[2934 1227]\n",
      " [ 822 2265]]\n",
      "Accuracy:  71.73%\n",
      "Precision:  64.86%\n",
      "Recall score:  73.37%\n",
      "F1 score:  68.86%\n"
     ]
    }
   ],
   "source": [
    "from sklearn.metrics import confusion_matrix, accuracy_score, classification_report, precision_score, f1_score, recall_score\n",
    "\n",
    "print('Confusion matrix')\n",
    "print(confusion_matrix(Y_test, preds))\n",
    "acc = accuracy_score(Y_test, preds)\n",
    "print(f'Accuracy: {acc: .2%}')\n",
    "pr = precision_score(Y_test, preds)\n",
    "print(f'Precision: {pr: .2%}')\n",
    "re = recall_score(Y_test, preds)\n",
    "print(f'Recall score: {re: .2%}')\n",
    "f1 = f1_score(Y_test, preds)\n",
    "print(f'F1 score: {f1: .2%}')"
   ]
  },
  {
   "cell_type": "code",
   "execution_count": 13,
   "id": "f5f09d01",
   "metadata": {},
   "outputs": [
    {
     "data": {
      "image/png": "[encoded data removed]",
      "text/plain": [
       "<Figure size 576x655.2 with 1 Axes>"
      ]
     },
     "metadata": {
      "needs_background": "light"
     },
     "output_type": "display_data"
    }
   ],
   "source": [
    "import shap\n",
    "\n",
    "explainer_km = shap.TreeExplainer(model)\n",
    "shap_values_km = explainer_km.shap_values(X)\n",
    "shap.summary_plot(shap_values_km, X, plot_type=\"bar\")"
   ]
  },
  {
   "cell_type": "code",
   "execution_count": 14,
   "id": "2b2812cd-f508-4cf1-80bf-2bf1d8230554",
   "metadata": {},
   "outputs": [
    {
     "name": "stdout",
     "output_type": "stream",
     "text": [
      "Model dumped!\n"
     ]
    }
   ],
   "source": [
    "import joblib\n",
    "joblib.dump(model, 'model.pkl')\n",
    "print(\"Model dumped!\")"
   ]
  },
  {
   "cell_type": "code",
   "execution_count": 16,
   "id": "af6140ed-b943-419b-a56e-bdfb3fe4d960",
   "metadata": {},
   "outputs": [
    {
     "name": "stdout",
     "output_type": "stream",
     "text": [
      "Models columns dumped!\n"
     ]
    }
   ],
   "source": [
    "# Load the model that you just saved\n",
    "model = joblib.load('model.pkl')\n",
    "\n",
    "# Saving the data columns from training\n",
    "model_columns = list(X.columns)\n",
    "joblib.dump(model_columns, 'model_columns.pkl')\n",
    "print(\"Models columns dumped!\")\n"
   ]
  },
  {
   "cell_type": "code",
   "execution_count": null,
   "id": "bfe0418c-a343-49b6-b48e-4e0a07d6ccc3",
   "metadata": {},
   "outputs": [],
   "source": []
  }
 ],
 "metadata": {
  "kernelspec": {
   "display_name": "Python 3 (ipykernel)",
   "language": "python",
   "name": "python3"
  },
  "language_info": {
   "codemirror_mode": {
    "name": "ipython",
    "version": 3
   },
   "file_extension": ".py",
   "mimetype": "text/x-python",
   "name": "python",
   "nbconvert_exporter": "python",
   "pygments_lexer": "ipython3",
   "version": "3.9.7"
  }
 },
 "nbformat": 4,
 "nbformat_minor": 5
}
