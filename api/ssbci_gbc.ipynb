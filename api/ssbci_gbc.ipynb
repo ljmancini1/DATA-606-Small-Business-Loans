{
 "cells": [
  {
   "cell_type": "code",
   "execution_count": 31,
   "id": "3004c501",
   "metadata": {},
   "outputs": [],
   "source": [
    "import pandas as pd\n",
    "import numpy as np\n",
    "from sklearn.metrics import accuracy_score\n",
    "from sklearn.model_selection import train_test_split"
   ]
  },
  {
   "cell_type": "code",
   "execution_count": 64,
   "id": "0e1502dd",
   "metadata": {},
   "outputs": [
    {
     "data": {
      "text/plain": [
       "Index(['ssbci_original_funds', 'jobs_retained', 'revenue',\n",
       "       'full_time_employees', 'loan_investment_amount', 'SPY_Close',\n",
       "       'creation_status'],\n",
       "      dtype='object')"
      ]
     },
     "execution_count": 64,
     "metadata": {},
     "output_type": "execute_result"
    }
   ],
   "source": [
    "df = pd.read_csv(\"../data/ssbci_data_withclusters.csv\")\n",
    "df.loc[df['jobs_created'] > 0, 'creation_status'] = 1\n",
    "df.loc[df['jobs_created'] == 0, 'creation_status'] = 0\n",
    "df_expanded = df.copy()\n",
    "df = df[['ssbci_original_funds', 'jobs_retained','revenue','full_time_employees','loan_investment_amount', 'SPY_Close','creation_status']]\n",
    "df_expanded = df_expanded[['ssbci_original_funds', 'jobs_retained','revenue','full_time_employees','loan_investment_amount', \n",
    "                           'SPY_Close', 'kproto','creation_status']]\n",
    "\n",
    "#df_expanded.drop(['Unnamed: 0','borrower_insurance_premium','lender_insurance_premium','jobs_created','job_benefit'], axis=1, inplace=True)\n",
    "df.columns"
   ]
  },
  {
   "cell_type": "code",
   "execution_count": 65,
   "id": "b581b1eb-c8eb-4fd7-b82a-e471039a36a4",
   "metadata": {},
   "outputs": [
    {
     "data": {
      "text/plain": [
       "Index(['kproto'], dtype='object')"
      ]
     },
     "execution_count": 65,
     "metadata": {},
     "output_type": "execute_result"
    }
   ],
   "source": [
    "ssbci_obj_cols = df_expanded.select_dtypes(exclude=[np.float64]).columns\n",
    "#ssbci_int_cols = [['naics_code','year_incorporated']]\n",
    "#ssbci_obj_cols.append(ssbci_int_cols)\n",
    "ssbci_obj_cols"
   ]
  },
  {
   "cell_type": "code",
   "execution_count": 66,
   "id": "0b91a1e5-d3b3-4f07-9374-0e17f79ccbef",
   "metadata": {},
   "outputs": [
    {
     "name": "stdout",
     "output_type": "stream",
     "text": [
      "Label Encoded Data: \n"
     ]
    },
    {
     "data": {
      "text/html": [
       "<div>\n",
       "<style scoped>\n",
       "    .dataframe tbody tr th:only-of-type {\n",
       "        vertical-align: middle;\n",
       "    }\n",
       "\n",
       "    .dataframe tbody tr th {\n",
       "        vertical-align: top;\n",
       "    }\n",
       "\n",
       "    .dataframe thead th {\n",
       "        text-align: right;\n",
       "    }\n",
       "</style>\n",
       "<table border=\"1\" class=\"dataframe\">\n",
       "  <thead>\n",
       "    <tr style=\"text-align: right;\">\n",
       "      <th></th>\n",
       "      <th>ssbci_original_funds</th>\n",
       "      <th>jobs_retained</th>\n",
       "      <th>revenue</th>\n",
       "      <th>full_time_employees</th>\n",
       "      <th>loan_investment_amount</th>\n",
       "      <th>SPY_Close</th>\n",
       "      <th>kproto</th>\n",
       "      <th>creation_status</th>\n",
       "    </tr>\n",
       "  </thead>\n",
       "  <tbody>\n",
       "    <tr>\n",
       "      <th>0</th>\n",
       "      <td>90000.0</td>\n",
       "      <td>1.0</td>\n",
       "      <td>0.0</td>\n",
       "      <td>5.0</td>\n",
       "      <td>180000.0</td>\n",
       "      <td>152.110001</td>\n",
       "      <td>6</td>\n",
       "      <td>1.0</td>\n",
       "    </tr>\n",
       "    <tr>\n",
       "      <th>1</th>\n",
       "      <td>250000.0</td>\n",
       "      <td>0.0</td>\n",
       "      <td>0.0</td>\n",
       "      <td>28.0</td>\n",
       "      <td>2400000.0</td>\n",
       "      <td>167.509995</td>\n",
       "      <td>2</td>\n",
       "      <td>1.0</td>\n",
       "    </tr>\n",
       "    <tr>\n",
       "      <th>2</th>\n",
       "      <td>110000.0</td>\n",
       "      <td>5.0</td>\n",
       "      <td>0.0</td>\n",
       "      <td>7.0</td>\n",
       "      <td>265000.0</td>\n",
       "      <td>183.820007</td>\n",
       "      <td>6</td>\n",
       "      <td>1.0</td>\n",
       "    </tr>\n",
       "    <tr>\n",
       "      <th>3</th>\n",
       "      <td>99750.0</td>\n",
       "      <td>0.0</td>\n",
       "      <td>0.0</td>\n",
       "      <td>2.0</td>\n",
       "      <td>199500.0</td>\n",
       "      <td>181.509995</td>\n",
       "      <td>6</td>\n",
       "      <td>1.0</td>\n",
       "    </tr>\n",
       "    <tr>\n",
       "      <th>4</th>\n",
       "      <td>62500.0</td>\n",
       "      <td>0.0</td>\n",
       "      <td>1494916.0</td>\n",
       "      <td>8.0</td>\n",
       "      <td>125000.0</td>\n",
       "      <td>187.399994</td>\n",
       "      <td>6</td>\n",
       "      <td>1.0</td>\n",
       "    </tr>\n",
       "  </tbody>\n",
       "</table>\n",
       "</div>"
      ],
      "text/plain": [
       "   ssbci_original_funds  jobs_retained    revenue  full_time_employees  \\\n",
       "0               90000.0            1.0        0.0                  5.0   \n",
       "1              250000.0            0.0        0.0                 28.0   \n",
       "2              110000.0            5.0        0.0                  7.0   \n",
       "3               99750.0            0.0        0.0                  2.0   \n",
       "4               62500.0            0.0  1494916.0                  8.0   \n",
       "\n",
       "   loan_investment_amount   SPY_Close  kproto  creation_status  \n",
       "0                180000.0  152.110001       6              1.0  \n",
       "1               2400000.0  167.509995       2              1.0  \n",
       "2                265000.0  183.820007       6              1.0  \n",
       "3                199500.0  181.509995       6              1.0  \n",
       "4                125000.0  187.399994       6              1.0  "
      ]
     },
     "execution_count": 66,
     "metadata": {},
     "output_type": "execute_result"
    }
   ],
   "source": [
    "from sklearn.preprocessing import LabelEncoder\n",
    "label_encoder = LabelEncoder()\n",
    "for i in ssbci_obj_cols:\n",
    "    df_expanded[i] = label_encoder.fit_transform(df_expanded[i])\n",
    "\n",
    "print(\"Label Encoded Data: \")\n",
    "df_expanded.head()"
   ]
  },
  {
   "cell_type": "code",
   "execution_count": 67,
   "id": "e9498f60",
   "metadata": {},
   "outputs": [],
   "source": [
    "X = df.copy()\n",
    "X.drop(\"creation_status\", inplace = True, axis = 1)\n",
    "Y = df.creation_status"
   ]
  },
  {
   "cell_type": "code",
   "execution_count": 68,
   "id": "df476570",
   "metadata": {},
   "outputs": [],
   "source": [
    "#X_train, X_test = X[:int(X.shape[0]*0.8)].values, X[int(X.shape[0]*0.8):].values\n",
    "#Y_train, Y_test = Y[:int(X.shape[0]*0.8)].values, Y[int(X.shape[0]*0.8):].values\n",
    "\n",
    "X_train, X_test, Y_train, Y_test = train_test_split(X, Y,\n",
    "test_size=0.2, random_state=42)\n"
   ]
  },
  {
   "cell_type": "code",
   "execution_count": 69,
   "id": "a3691476-8199-439d-bb56-dc64a97f7171",
   "metadata": {},
   "outputs": [
    {
     "name": "stdout",
     "output_type": "stream",
     "text": [
      "Confusion matrix\n",
      "[[1963  571]\n",
      " [ 507 1352]]\n",
      "Accuracy score\n",
      "0.7546096061916686\n",
      "Precision score\n",
      "0.703068122724909\n",
      "Recall score\n",
      "0.7272727272727273\n",
      "F1 score\n",
      "0.7149656266525648\n"
     ]
    }
   ],
   "source": [
    "from sklearn.ensemble import GradientBoostingClassifier\n",
    "from sklearn.metrics import confusion_matrix, accuracy_score, classification_report, precision_score, f1_score, recall_score\n",
    "\n",
    "\n",
    "boost = GradientBoostingClassifier(max_depth=10)\n",
    "boost.fit(X_train, Y_train)\n",
    "y_pred_boost = boost.predict(X_test)\n",
    "print('Confusion matrix')\n",
    "print(confusion_matrix(Y_test, y_pred_boost))\n",
    "print('Accuracy score')\n",
    "ac = accuracy_score(Y_test, y_pred_boost)\n",
    "print(ac)\n",
    "print('Precision score')\n",
    "pr = precision_score(Y_test, y_pred_boost)\n",
    "print(pr)\n",
    "print('Recall score')\n",
    "re = recall_score(Y_test, y_pred_boost)\n",
    "print(re)\n",
    "print('F1 score')\n",
    "f1 = f1_score(Y_test, y_pred_boost)\n",
    "print(f1)"
   ]
  },
  {
   "cell_type": "code",
   "execution_count": 70,
   "id": "98609fda-e12a-4ab0-b71f-592410ac31fc",
   "metadata": {},
   "outputs": [],
   "source": [
    "Xe = df_expanded.copy()\n",
    "Xe.drop(\"creation_status\", inplace = True, axis = 1)\n",
    "Ye = df_expanded.creation_status"
   ]
  },
  {
   "cell_type": "code",
   "execution_count": 71,
   "id": "4a6e1baf-7a4d-4e5b-a165-9afcac69e3ff",
   "metadata": {},
   "outputs": [],
   "source": [
    "Xe_train, Xe_test, Ye_train, Ye_test = train_test_split(Xe, Ye,\n",
    "test_size=0.2, random_state=42)"
   ]
  },
  {
   "cell_type": "code",
   "execution_count": 72,
   "id": "7a6a8c63-c3a5-4cca-8d16-48d01adf671b",
   "metadata": {},
   "outputs": [
    {
     "name": "stdout",
     "output_type": "stream",
     "text": [
      "Confusion matrix\n",
      "[[2020  514]\n",
      " [ 480 1379]]\n",
      "Accuracy score\n",
      "0.7737309355793307\n",
      "Precision score\n",
      "0.728473322768093\n",
      "Recall score\n",
      "0.741796664873588\n",
      "F1 score\n",
      "0.7350746268656716\n"
     ]
    }
   ],
   "source": [
    "boost_expanded = GradientBoostingClassifier(max_depth=10)\n",
    "boost_expanded.fit(Xe_train, Ye_train)\n",
    "ye_pred_boost = boost_expanded.predict(Xe_test)\n",
    "print('Confusion matrix')\n",
    "print(confusion_matrix(Ye_test, ye_pred_boost))\n",
    "print('Accuracy score')\n",
    "ace = accuracy_score(Ye_test, ye_pred_boost)\n",
    "print(ace)\n",
    "print('Precision score')\n",
    "pre = precision_score(Ye_test, ye_pred_boost)\n",
    "print(pre)\n",
    "print('Recall score')\n",
    "ree = recall_score(Ye_test, ye_pred_boost)\n",
    "print(ree)\n",
    "print('F1 score')\n",
    "f1e = f1_score(Ye_test, ye_pred_boost)\n",
    "print(f1e)"
   ]
  },
  {
   "cell_type": "code",
   "execution_count": 73,
   "id": "f5f09d01",
   "metadata": {},
   "outputs": [
    {
     "data": {
      "image/png": "[encoded data removed]",
      "text/plain": [
       "<Figure size 576x280.8 with 1 Axes>"
      ]
     },
     "metadata": {
      "needs_background": "light"
     },
     "output_type": "display_data"
    }
   ],
   "source": [
    "import shap\n",
    "\n",
    "explainer_km = shap.TreeExplainer(boost)\n",
    "shap_values_km = explainer_km.shap_values(X)\n",
    "shap.summary_plot(shap_values_km, X, plot_type=\"bar\")"
   ]
  },
  {
   "cell_type": "code",
   "execution_count": 74,
   "id": "4029346f-9ade-4c96-82fc-366023d7f09a",
   "metadata": {},
   "outputs": [
    {
     "ename": "NameError",
     "evalue": "name 'boost_epxanded' is not defined",
     "output_type": "error",
     "traceback": [
      "\u001b[1;31m---------------------------------------------------------------------------\u001b[0m",
      "\u001b[1;31mNameError\u001b[0m                                 Traceback (most recent call last)",
      "\u001b[1;32m~\\AppData\\Local\\Temp/ipykernel_9920/1013829130.py\u001b[0m in \u001b[0;36m<module>\u001b[1;34m\u001b[0m\n\u001b[1;32m----> 1\u001b[1;33m \u001b[0mexplainer_km\u001b[0m \u001b[1;33m=\u001b[0m \u001b[0mshap\u001b[0m\u001b[1;33m.\u001b[0m\u001b[0mTreeExplainer\u001b[0m\u001b[1;33m(\u001b[0m\u001b[0mboost_epxanded\u001b[0m\u001b[1;33m)\u001b[0m\u001b[1;33m\u001b[0m\u001b[1;33m\u001b[0m\u001b[0m\n\u001b[0m\u001b[0;32m      2\u001b[0m \u001b[0mshap_values_km\u001b[0m \u001b[1;33m=\u001b[0m \u001b[0mexplainer_km\u001b[0m\u001b[1;33m.\u001b[0m\u001b[0mshap_values\u001b[0m\u001b[1;33m(\u001b[0m\u001b[0mXe\u001b[0m\u001b[1;33m)\u001b[0m\u001b[1;33m\u001b[0m\u001b[1;33m\u001b[0m\u001b[0m\n\u001b[0;32m      3\u001b[0m \u001b[0mshap\u001b[0m\u001b[1;33m.\u001b[0m\u001b[0msummary_plot\u001b[0m\u001b[1;33m(\u001b[0m\u001b[0mshap_values_km\u001b[0m\u001b[1;33m,\u001b[0m \u001b[0mXe\u001b[0m\u001b[1;33m,\u001b[0m \u001b[0mplot_type\u001b[0m\u001b[1;33m=\u001b[0m\u001b[1;34m\"bar\"\u001b[0m\u001b[1;33m)\u001b[0m\u001b[1;33m\u001b[0m\u001b[1;33m\u001b[0m\u001b[0m\n",
      "\u001b[1;31mNameError\u001b[0m: name 'boost_epxanded' is not defined"
     ]
    }
   ],
   "source": [
    "explainer_km = shap.TreeExplainer(boost_epxanded)\n",
    "shap_values_km = explainer_km.shap_values(Xe)\n",
    "shap.summary_plot(shap_values_km, Xe, plot_type=\"bar\")"
   ]
  },
  {
   "cell_type": "code",
   "execution_count": 52,
   "id": "c9212188",
   "metadata": {},
   "outputs": [],
   "source": [
    "import pickle\n",
    "pickle.dump(model, open(\"model.dat\", \"wb\"))\n",
    "\n",
    "model.save_model(\"model.json\")"
   ]
  },
  {
   "cell_type": "code",
   "execution_count": 43,
   "id": "2b2812cd-f508-4cf1-80bf-2bf1d8230554",
   "metadata": {},
   "outputs": [
    {
     "name": "stdout",
     "output_type": "stream",
     "text": [
      "Model dumped!\n"
     ]
    }
   ],
   "source": [
    "import joblib\n",
    "joblib.dump(boost, 'model.pkl')\n",
    "print(\"Model dumped!\")"
   ]
  },
  {
   "cell_type": "code",
   "execution_count": 44,
   "id": "af6140ed-b943-419b-a56e-bdfb3fe4d960",
   "metadata": {},
   "outputs": [
    {
     "name": "stdout",
     "output_type": "stream",
     "text": [
      "Models columns dumped!\n"
     ]
    }
   ],
   "source": [
    "# Load the model that you just saved\n",
    "model = joblib.load('model.pkl')\n",
    "\n",
    "# Saving the data columns from training\n",
    "model_columns = list(X.columns)\n",
    "joblib.dump(model_columns, 'model_columns.pkl')\n",
    "print(\"Models columns dumped!\")\n"
   ]
  },
  {
   "cell_type": "code",
   "execution_count": null,
   "id": "bfe0418c-a343-49b6-b48e-4e0a07d6ccc3",
   "metadata": {},
   "outputs": [],
   "source": []
  }
 ],
 "metadata": {
  "kernelspec": {
   "display_name": "Python 3 (ipykernel)",
   "language": "python",
   "name": "python3"
  },
  "language_info": {
   "codemirror_mode": {
    "name": "ipython",
    "version": 3
   },
   "file_extension": ".py",
   "mimetype": "text/x-python",
   "name": "python",
   "nbconvert_exporter": "python",
   "pygments_lexer": "ipython3",
   "version": "3.9.7"
  }
 },
 "nbformat": 4,
 "nbformat_minor": 5
}
