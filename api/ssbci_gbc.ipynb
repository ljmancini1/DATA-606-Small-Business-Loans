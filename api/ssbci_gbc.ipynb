{
 "cells": [
  {
   "cell_type": "code",
   "execution_count": 1,
   "id": "3004c501",
   "metadata": {},
   "outputs": [],
   "source": [
    "import pandas as pd\n",
    "import numpy as np\n",
    "from sklearn.metrics import accuracy_score\n",
    "from sklearn.model_selection import train_test_split\n",
    "import shap"
   ]
  },
  {
   "cell_type": "code",
   "execution_count": 2,
   "id": "0e1502dd",
   "metadata": {},
   "outputs": [
    {
     "data": {
      "text/plain": [
       "Index(['ssbci_original_funds', 'jobs_retained', 'revenue',\n",
       "       'full_time_employees', 'loan_investment_amount', 'SPY_Close',\n",
       "       'creation_status'],\n",
       "      dtype='object')"
      ]
     },
     "execution_count": 2,
     "metadata": {},
     "output_type": "execute_result"
    }
   ],
   "source": [
    "df = pd.read_csv(\"../data/ssbci_data_withclusters.csv\")\n",
    "df.loc[df['jobs_created'] > 0, 'creation_status'] = 1\n",
    "df.loc[df['jobs_created'] == 0, 'creation_status'] = 0\n",
    "df_expanded = df.copy()\n",
    "df = df[['ssbci_original_funds', 'jobs_retained','revenue','full_time_employees','loan_investment_amount', 'SPY_Close','creation_status']]\n",
    "df_expanded = df_expanded[['ssbci_original_funds', 'jobs_retained','revenue','full_time_employees','loan_investment_amount', \n",
    "                           'SPY_Close', 'kproto','creation_status']]\n",
    "\n",
    "#df_expanded.drop(['Unnamed: 0','borrower_insurance_premium','lender_insurance_premium','jobs_created','job_benefit'], axis=1, inplace=True)\n",
    "df.columns"
   ]
  },
  {
   "cell_type": "code",
   "execution_count": 3,
   "id": "b581b1eb-c8eb-4fd7-b82a-e471039a36a4",
   "metadata": {},
   "outputs": [
    {
     "data": {
      "text/plain": [
       "Index(['kproto'], dtype='object')"
      ]
     },
     "execution_count": 3,
     "metadata": {},
     "output_type": "execute_result"
    }
   ],
   "source": [
    "ssbci_obj_cols = df_expanded.select_dtypes(exclude=[np.float64]).columns\n",
    "#ssbci_int_cols = [['naics_code','year_incorporated']]\n",
    "#ssbci_obj_cols.append(ssbci_int_cols)\n",
    "ssbci_obj_cols"
   ]
  },
  {
   "cell_type": "code",
   "execution_count": 4,
   "id": "0b91a1e5-d3b3-4f07-9374-0e17f79ccbef",
   "metadata": {},
   "outputs": [
    {
     "name": "stdout",
     "output_type": "stream",
     "text": [
      "Label Encoded Data: \n"
     ]
    },
    {
     "data": {
      "text/html": [
       "<div>\n",
       "<style scoped>\n",
       "    .dataframe tbody tr th:only-of-type {\n",
       "        vertical-align: middle;\n",
       "    }\n",
       "\n",
       "    .dataframe tbody tr th {\n",
       "        vertical-align: top;\n",
       "    }\n",
       "\n",
       "    .dataframe thead th {\n",
       "        text-align: right;\n",
       "    }\n",
       "</style>\n",
       "<table border=\"1\" class=\"dataframe\">\n",
       "  <thead>\n",
       "    <tr style=\"text-align: right;\">\n",
       "      <th></th>\n",
       "      <th>ssbci_original_funds</th>\n",
       "      <th>jobs_retained</th>\n",
       "      <th>revenue</th>\n",
       "      <th>full_time_employees</th>\n",
       "      <th>loan_investment_amount</th>\n",
       "      <th>SPY_Close</th>\n",
       "      <th>kproto</th>\n",
       "      <th>creation_status</th>\n",
       "    </tr>\n",
       "  </thead>\n",
       "  <tbody>\n",
       "    <tr>\n",
       "      <th>0</th>\n",
       "      <td>90000.0</td>\n",
       "      <td>1.0</td>\n",
       "      <td>0.0</td>\n",
       "      <td>5.0</td>\n",
       "      <td>180000.0</td>\n",
       "      <td>152.110001</td>\n",
       "      <td>8</td>\n",
       "      <td>1.0</td>\n",
       "    </tr>\n",
       "    <tr>\n",
       "      <th>1</th>\n",
       "      <td>250000.0</td>\n",
       "      <td>0.0</td>\n",
       "      <td>0.0</td>\n",
       "      <td>28.0</td>\n",
       "      <td>2400000.0</td>\n",
       "      <td>167.509995</td>\n",
       "      <td>3</td>\n",
       "      <td>1.0</td>\n",
       "    </tr>\n",
       "    <tr>\n",
       "      <th>2</th>\n",
       "      <td>110000.0</td>\n",
       "      <td>5.0</td>\n",
       "      <td>0.0</td>\n",
       "      <td>7.0</td>\n",
       "      <td>265000.0</td>\n",
       "      <td>183.820007</td>\n",
       "      <td>8</td>\n",
       "      <td>1.0</td>\n",
       "    </tr>\n",
       "    <tr>\n",
       "      <th>3</th>\n",
       "      <td>99750.0</td>\n",
       "      <td>0.0</td>\n",
       "      <td>0.0</td>\n",
       "      <td>2.0</td>\n",
       "      <td>199500.0</td>\n",
       "      <td>181.509995</td>\n",
       "      <td>8</td>\n",
       "      <td>1.0</td>\n",
       "    </tr>\n",
       "    <tr>\n",
       "      <th>4</th>\n",
       "      <td>62500.0</td>\n",
       "      <td>0.0</td>\n",
       "      <td>1494916.0</td>\n",
       "      <td>8.0</td>\n",
       "      <td>125000.0</td>\n",
       "      <td>187.399994</td>\n",
       "      <td>5</td>\n",
       "      <td>1.0</td>\n",
       "    </tr>\n",
       "  </tbody>\n",
       "</table>\n",
       "</div>"
      ],
      "text/plain": [
       "   ssbci_original_funds  jobs_retained    revenue  full_time_employees  \\\n",
       "0               90000.0            1.0        0.0                  5.0   \n",
       "1              250000.0            0.0        0.0                 28.0   \n",
       "2              110000.0            5.0        0.0                  7.0   \n",
       "3               99750.0            0.0        0.0                  2.0   \n",
       "4               62500.0            0.0  1494916.0                  8.0   \n",
       "\n",
       "   loan_investment_amount   SPY_Close  kproto  creation_status  \n",
       "0                180000.0  152.110001       8              1.0  \n",
       "1               2400000.0  167.509995       3              1.0  \n",
       "2                265000.0  183.820007       8              1.0  \n",
       "3                199500.0  181.509995       8              1.0  \n",
       "4                125000.0  187.399994       5              1.0  "
      ]
     },
     "execution_count": 4,
     "metadata": {},
     "output_type": "execute_result"
    }
   ],
   "source": [
    "from sklearn.preprocessing import LabelEncoder\n",
    "label_encoder = LabelEncoder()\n",
    "for i in ssbci_obj_cols:\n",
    "    df_expanded[i] = label_encoder.fit_transform(df_expanded[i])\n",
    "\n",
    "print(\"Label Encoded Data: \")\n",
    "df_expanded.head()"
   ]
  },
  {
   "cell_type": "code",
   "execution_count": 5,
   "id": "e9498f60",
   "metadata": {},
   "outputs": [],
   "source": [
    "X = df.copy()\n",
    "X.drop(\"creation_status\", inplace = True, axis = 1)\n",
    "Y = df.creation_status"
   ]
  },
  {
   "cell_type": "code",
   "execution_count": 6,
   "id": "df476570",
   "metadata": {},
   "outputs": [],
   "source": [
    "#X_train, X_test = X[:int(X.shape[0]*0.8)].values, X[int(X.shape[0]*0.8):].values\n",
    "#Y_train, Y_test = Y[:int(X.shape[0]*0.8)].values, Y[int(X.shape[0]*0.8):].values\n",
    "\n",
    "X_train, X_test, Y_train, Y_test = train_test_split(X, Y,\n",
    "test_size=0.2, random_state=42)\n"
   ]
  },
  {
   "cell_type": "code",
   "execution_count": 7,
   "id": "a3691476-8199-439d-bb56-dc64a97f7171",
   "metadata": {},
   "outputs": [
    {
     "name": "stdout",
     "output_type": "stream",
     "text": [
      "Confusion matrix\n",
      "[[1987  547]\n",
      " [ 509 1350]]\n",
      "Accuracy score\n",
      "0.7596175734122468\n",
      "Precision score\n",
      "0.7116499736425935\n",
      "Recall score\n",
      "0.7261968800430338\n",
      "F1 score\n",
      "0.7188498402555911\n"
     ]
    }
   ],
   "source": [
    "from sklearn.ensemble import GradientBoostingClassifier\n",
    "from sklearn.metrics import confusion_matrix, accuracy_score, classification_report, precision_score, f1_score, recall_score\n",
    "\n",
    "\n",
    "boost = GradientBoostingClassifier(max_depth=10)\n",
    "boost.fit(X_train, Y_train)\n",
    "y_pred_boost = boost.predict(X_test)\n",
    "print('Confusion matrix')\n",
    "print(confusion_matrix(Y_test, y_pred_boost))\n",
    "print('Accuracy score')\n",
    "ac = accuracy_score(Y_test, y_pred_boost)\n",
    "print(ac)\n",
    "print('Precision score')\n",
    "pr = precision_score(Y_test, y_pred_boost)\n",
    "print(pr)\n",
    "print('Recall score')\n",
    "re = recall_score(Y_test, y_pred_boost)\n",
    "print(re)\n",
    "print('F1 score')\n",
    "f1 = f1_score(Y_test, y_pred_boost)\n",
    "print(f1)"
   ]
  },
  {
   "cell_type": "code",
   "execution_count": 8,
   "id": "65938932-e6da-49d3-9857-ecd4d33c5499",
   "metadata": {},
   "outputs": [
    {
     "name": "stdout",
     "output_type": "stream",
     "text": [
      "{'fit_time': array([15.37561178, 15.42166162, 13.87055016, 15.27465796, 14.48053575,\n",
      "       14.80158472, 13.60353422, 15.34673834,  8.41242719,  8.18339562]), 'score_time': array([0.02897072, 0.01752353, 0.04397058, 0.02700901, 0.0450201 ,\n",
      "       0.02797508, 0.0449965 , 0.02397919, 0.0169549 , 0.01695442]), 'test_accuracy': array([0.75011379, 0.77651343, 0.76320583, 0.75      , 0.7636612 ,\n",
      "       0.75      , 0.74772313, 0.76138434, 0.75774135, 0.74863388]), 'test_precision': array([0.71868583, 0.72783505, 0.71835443, 0.70106383, 0.73120494,\n",
      "       0.70664024, 0.69637306, 0.73152966, 0.70719352, 0.69351464]), 'test_recall': array([0.71794872, 0.75669882, 0.72912206, 0.71089536, 0.73347107,\n",
      "       0.73809524, 0.72025723, 0.7254902 , 0.74176408, 0.71908894]), 'test_f1_score': array([0.71831709, 0.74198634, 0.72369819, 0.70594537, 0.73233626,\n",
      "       0.72202532, 0.7081138 , 0.72849741, 0.72406639, 0.70607029])}\n"
     ]
    }
   ],
   "source": [
    "from sklearn.model_selection import KFold\n",
    "from sklearn.model_selection import cross_validate\n",
    "from numpy import mean\n",
    "from numpy import std\n",
    "from sklearn.metrics import make_scorer, accuracy_score, precision_score, recall_score, f1_score\n",
    "\n",
    "score = {'accuracy' : make_scorer(accuracy_score), \n",
    "           'precision' : make_scorer(precision_score),\n",
    "           'recall' : make_scorer(recall_score), \n",
    "           'f1_score' : make_scorer(f1_score)}\n",
    "\n",
    "\n",
    "# prepare the cross-validation procedure\n",
    "cv = KFold(n_splits=10, random_state=1, shuffle=True)\n",
    "# evaluate model\n",
    "scores = cross_validate(boost, X, Y, scoring=score, cv=cv, n_jobs=-1)\n",
    "# report performance\n",
    "#print('Accuracy: %.3f (%.3f)' % (mean(scores), std(scores)))\n",
    "print(scores)"
   ]
  },
  {
   "cell_type": "code",
   "execution_count": 9,
   "id": "11169018-400f-4dc7-902d-7a6c65d8e2bb",
   "metadata": {},
   "outputs": [
    {
     "data": {
      "image/png": "[encoded data removed]",
      "text/plain": [
       "<Figure size 576x280.8 with 1 Axes>"
      ]
     },
     "metadata": {
      "needs_background": "light"
     },
     "output_type": "display_data"
    }
   ],
   "source": [
    "import shap\n",
    "\n",
    "explainer_km = shap.TreeExplainer(boost)\n",
    "shap_values_km = explainer_km.shap_values(X)\n",
    "shap.summary_plot(shap_values_km, X, plot_type=\"bar\")"
   ]
  },
  {
   "cell_type": "code",
   "execution_count": 10,
   "id": "98609fda-e12a-4ab0-b71f-592410ac31fc",
   "metadata": {},
   "outputs": [],
   "source": [
    "Xe = df_expanded.copy()\n",
    "Xe.drop(\"creation_status\", inplace = True, axis = 1)\n",
    "Ye = df_expanded.creation_status"
   ]
  },
  {
   "cell_type": "code",
   "execution_count": 11,
   "id": "4a6e1baf-7a4d-4e5b-a165-9afcac69e3ff",
   "metadata": {},
   "outputs": [],
   "source": [
    "Xe_train, Xe_test, Ye_train, Ye_test = train_test_split(Xe, Ye,\n",
    "test_size=0.2, random_state=42)"
   ]
  },
  {
   "cell_type": "code",
   "execution_count": 12,
   "id": "7a6a8c63-c3a5-4cca-8d16-48d01adf671b",
   "metadata": {},
   "outputs": [
    {
     "name": "stdout",
     "output_type": "stream",
     "text": [
      "Confusion matrix\n",
      "[[2013  521]\n",
      " [ 498 1361]]\n",
      "Accuracy score\n",
      "0.7680400637377647\n",
      "Precision score\n",
      "0.7231668437832094\n",
      "Recall score\n",
      "0.7321140398063475\n",
      "F1 score\n",
      "0.7276129377171879\n"
     ]
    }
   ],
   "source": [
    "boost_expanded = GradientBoostingClassifier(max_depth=10)\n",
    "boost_expanded.fit(Xe_train, Ye_train)\n",
    "ye_pred_boost = boost_expanded.predict(Xe_test)\n",
    "print('Confusion matrix')\n",
    "print(confusion_matrix(Ye_test, ye_pred_boost))\n",
    "print('Accuracy score')\n",
    "ace = accuracy_score(Ye_test, ye_pred_boost)\n",
    "print(ace)\n",
    "print('Precision score')\n",
    "pre = precision_score(Ye_test, ye_pred_boost)\n",
    "print(pre)\n",
    "print('Recall score')\n",
    "ree = recall_score(Ye_test, ye_pred_boost)\n",
    "print(ree)\n",
    "print('F1 score')\n",
    "f1e = f1_score(Ye_test, ye_pred_boost)\n",
    "print(f1e)"
   ]
  },
  {
   "cell_type": "code",
   "execution_count": 13,
   "id": "be1615b8-77e9-486c-908a-448026a2230c",
   "metadata": {},
   "outputs": [
    {
     "name": "stdout",
     "output_type": "stream",
     "text": [
      "{'fit_time': array([14.18217397, 14.13729453, 14.22257519, 14.15225482, 14.44848323,\n",
      "       14.50233865, 14.58961511, 14.87536073,  8.28885508,  8.36214972]), 'score_time': array([0.02942967, 0.02493334, 0.02892232, 0.02991962, 0.0269289 ,\n",
      "       0.02792525, 0.0259304 , 0.01994705, 0.01894903, 0.01595712]), 'test_accuracy': array([0.75512062, 0.77196177, 0.76183971, 0.74408015, 0.75728597,\n",
      "       0.74772313, 0.75364299, 0.76502732, 0.76047359, 0.74863388]), 'test_precision': array([0.72318693, 0.72832981, 0.7197861 , 0.69230769, 0.72171254,\n",
      "       0.70355731, 0.70164609, 0.73135853, 0.70896274, 0.69151139]), 'test_recall': array([0.72615385, 0.73847803, 0.72055675, 0.70873786, 0.73140496,\n",
      "       0.73706004, 0.73097535, 0.73890609, 0.74814028, 0.72451193]), 'test_f1_score': array([0.72466735, 0.73336881, 0.72017121, 0.70042644, 0.72652642,\n",
      "       0.71991911, 0.7160105 , 0.73511294, 0.72802482, 0.70762712])}\n"
     ]
    }
   ],
   "source": [
    "from sklearn.model_selection import KFold\n",
    "from sklearn.model_selection import cross_validate\n",
    "from numpy import mean\n",
    "from numpy import std\n",
    "from sklearn.metrics import make_scorer, accuracy_score, precision_score, recall_score, f1_score\n",
    "\n",
    "score = {'accuracy' : make_scorer(accuracy_score), \n",
    "           'precision' : make_scorer(precision_score),\n",
    "           'recall' : make_scorer(recall_score), \n",
    "           'f1_score' : make_scorer(f1_score)}\n",
    "\n",
    "\n",
    "# prepare the cross-validation procedure\n",
    "cv = KFold(n_splits=10, random_state=1, shuffle=True)\n",
    "# evaluate model\n",
    "scores = cross_validate(boost_expanded, X, Y, scoring=score, cv=cv, n_jobs=-1)\n",
    "# report performance\n",
    "#print('Accuracy: %.3f (%.3f)' % (mean(scores), std(scores)))\n",
    "print(scores)"
   ]
  },
  {
   "cell_type": "code",
   "execution_count": 14,
   "id": "f5f09d01",
   "metadata": {},
   "outputs": [
    {
     "data": {
      "image/png": "[encoded data removed]",
      "text/plain": [
       "<Figure size 576x309.6 with 1 Axes>"
      ]
     },
     "metadata": {
      "needs_background": "light"
     },
     "output_type": "display_data"
    }
   ],
   "source": [
    "explainer_km = shap.TreeExplainer(boost_expanded)\n",
    "shap_values_km = explainer_km.shap_values(Xe)\n",
    "shap.summary_plot(shap_values_km, Xe, plot_type=\"bar\")"
   ]
  },
  {
   "cell_type": "code",
   "execution_count": 21,
   "id": "c9212188",
   "metadata": {},
   "outputs": [],
   "source": [
    "import pickle\n",
    "pickle.dump(boost, open(\"model.dat\", \"wb\"))"
   ]
  },
  {
   "cell_type": "code",
   "execution_count": 18,
   "id": "2b2812cd-f508-4cf1-80bf-2bf1d8230554",
   "metadata": {},
   "outputs": [
    {
     "name": "stdout",
     "output_type": "stream",
     "text": [
      "Model dumped!\n"
     ]
    }
   ],
   "source": [
    "import joblib\n",
    "joblib.dump(boost, 'model.pkl')\n",
    "print(\"Model dumped!\")"
   ]
  },
  {
   "cell_type": "code",
   "execution_count": 19,
   "id": "af6140ed-b943-419b-a56e-bdfb3fe4d960",
   "metadata": {},
   "outputs": [
    {
     "name": "stdout",
     "output_type": "stream",
     "text": [
      "Models columns dumped!\n"
     ]
    }
   ],
   "source": [
    "# Load the model that you just saved\n",
    "model = joblib.load('model.pkl')\n",
    "\n",
    "# Saving the data columns from training\n",
    "model_columns = list(X.columns)\n",
    "joblib.dump(model_columns, 'model_columns.pkl')\n",
    "print(\"Models columns dumped!\")\n"
   ]
  },
  {
   "cell_type": "code",
   "execution_count": null,
   "id": "bfe0418c-a343-49b6-b48e-4e0a07d6ccc3",
   "metadata": {},
   "outputs": [],
   "source": []
  }
 ],
 "metadata": {
  "kernelspec": {
   "display_name": "Python 3 (ipykernel)",
   "language": "python",
   "name": "python3"
  },
  "language_info": {
   "codemirror_mode": {
    "name": "ipython",
    "version": 3
   },
   "file_extension": ".py",
   "mimetype": "text/x-python",
   "name": "python",
   "nbconvert_exporter": "python",
   "pygments_lexer": "ipython3",
   "version": "3.9.7"
  }
 },
 "nbformat": 4,
 "nbformat_minor": 5
}
