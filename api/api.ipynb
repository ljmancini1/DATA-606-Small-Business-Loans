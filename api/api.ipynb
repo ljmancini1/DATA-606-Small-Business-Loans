{
 "cells": [
  {
   "cell_type": "code",
   "execution_count": 12,
   "metadata": {},
   "outputs": [
    {
     "name": "stdout",
     "output_type": "stream",
     "text": [
      "Collecting package metadata (current_repodata.json): ...working... done\n",
      "Solving environment: ...working... done\n",
      "\n",
      "## Package Plan ##\n",
      "\n",
      "  environment location: C:\\Users\\ljman\\anaconda3\n",
      "\n",
      "  added / updated specs:\n",
      "    - flask-restful\n",
      "\n",
      "\n",
      "The following packages will be downloaded:\n",
      "\n",
      "    package                    |            build\n",
      "    ---------------------------|-----------------\n",
      "    aniso8601-9.0.1            |     pyhd3eb1b0_0          38 KB\n",
      "    flask-restful-0.3.8        |     pyhd3eb1b0_0          28 KB\n",
      "    ------------------------------------------------------------\n",
      "                                           Total:          66 KB\n",
      "\n",
      "The following NEW packages will be INSTALLED:\n",
      "\n",
      "  aniso8601          pkgs/main/noarch::aniso8601-9.0.1-pyhd3eb1b0_0\n",
      "  flask-restful      pkgs/main/noarch::flask-restful-0.3.8-pyhd3eb1b0_0\n",
      "\n",
      "\n",
      "\n",
      "Downloading and Extracting Packages\n",
      "\n",
      "aniso8601-9.0.1      | 38 KB     |            |   0% \n",
      "aniso8601-9.0.1      | 38 KB     | ########3  |  83% \n",
      "aniso8601-9.0.1      | 38 KB     | ########## | 100% \n",
      "\n",
      "flask-restful-0.3.8  | 28 KB     |            |   0% \n",
      "flask-restful-0.3.8  | 28 KB     | ########## | 100% \n",
      "Preparing transaction: ...working... done\n",
      "Verifying transaction: ...working... done\n",
      "Executing transaction: ...working... done\n",
      "\n",
      "Note: you may need to restart the kernel to use updated packages.\n"
     ]
    }
   ],
   "source": [
    "conda install flask-restful"
   ]
  },
  {
   "cell_type": "code",
   "execution_count": 39,
   "metadata": {},
   "outputs": [
    {
     "name": "stdout",
     "output_type": "stream",
     "text": [
      "{'f0': <class 'str'>, 'f1': <class 'str'>, 'f2': <class 'str'>, 'f3': <class 'str'>, 'f5': <class 'str'>, 'f7': <class 'str'>, 'f8': <class 'str'>, 'f11': <class 'str'>, 'f12': <class 'str'>, 'f13': <class 'str'>, 'f15': <class 'str'>, 'f16': <class 'str'>, 'f17': <class 'str'>}\n"
     ]
    },
    {
     "ename": "RuntimeError",
     "evalue": "asyncio.run() cannot be called from a running event loop",
     "output_type": "error",
     "traceback": [
      "\u001b[1;31m---------------------------------------------------------------------------\u001b[0m",
      "\u001b[1;31mRuntimeError\u001b[0m                              Traceback (most recent call last)",
      "\u001b[1;32m~\\AppData\\Local\\Temp/ipykernel_24324/2304918120.py\u001b[0m in \u001b[0;36m<module>\u001b[1;34m\u001b[0m\n\u001b[0;32m     41\u001b[0m \u001b[1;32mif\u001b[0m \u001b[0m__name__\u001b[0m \u001b[1;33m==\u001b[0m \u001b[1;34m\"__main__\"\u001b[0m\u001b[1;33m:\u001b[0m\u001b[1;33m\u001b[0m\u001b[1;33m\u001b[0m\u001b[0m\n\u001b[0;32m     42\u001b[0m     \u001b[0mprint\u001b[0m\u001b[1;33m(\u001b[0m\u001b[0mget_features_dict\u001b[0m\u001b[1;33m(\u001b[0m\u001b[0mmodel\u001b[0m\u001b[1;33m)\u001b[0m\u001b[1;33m)\u001b[0m\u001b[1;33m\u001b[0m\u001b[1;33m\u001b[0m\u001b[0m\n\u001b[1;32m---> 43\u001b[1;33m     \u001b[0muvicorn\u001b[0m\u001b[1;33m.\u001b[0m\u001b[0mrun\u001b[0m\u001b[1;33m(\u001b[0m\u001b[0mapp\u001b[0m\u001b[1;33m,\u001b[0m \u001b[0mhost\u001b[0m\u001b[1;33m=\u001b[0m\u001b[1;34m\"0.0.0.0\"\u001b[0m\u001b[1;33m,\u001b[0m \u001b[0mport\u001b[0m\u001b[1;33m=\u001b[0m\u001b[1;36m8081\u001b[0m\u001b[1;33m)\u001b[0m\u001b[1;33m\u001b[0m\u001b[1;33m\u001b[0m\u001b[0m\n\u001b[0m",
      "\u001b[1;32m~\\anaconda3\\lib\\site-packages\\uvicorn\\main.py\u001b[0m in \u001b[0;36mrun\u001b[1;34m(app, **kwargs)\u001b[0m\n\u001b[0;32m    461\u001b[0m         \u001b[0mMultiprocess\u001b[0m\u001b[1;33m(\u001b[0m\u001b[0mconfig\u001b[0m\u001b[1;33m,\u001b[0m \u001b[0mtarget\u001b[0m\u001b[1;33m=\u001b[0m\u001b[0mserver\u001b[0m\u001b[1;33m.\u001b[0m\u001b[0mrun\u001b[0m\u001b[1;33m,\u001b[0m \u001b[0msockets\u001b[0m\u001b[1;33m=\u001b[0m\u001b[1;33m[\u001b[0m\u001b[0msock\u001b[0m\u001b[1;33m]\u001b[0m\u001b[1;33m)\u001b[0m\u001b[1;33m.\u001b[0m\u001b[0mrun\u001b[0m\u001b[1;33m(\u001b[0m\u001b[1;33m)\u001b[0m\u001b[1;33m\u001b[0m\u001b[1;33m\u001b[0m\u001b[0m\n\u001b[0;32m    462\u001b[0m     \u001b[1;32melse\u001b[0m\u001b[1;33m:\u001b[0m\u001b[1;33m\u001b[0m\u001b[1;33m\u001b[0m\u001b[0m\n\u001b[1;32m--> 463\u001b[1;33m         \u001b[0mserver\u001b[0m\u001b[1;33m.\u001b[0m\u001b[0mrun\u001b[0m\u001b[1;33m(\u001b[0m\u001b[1;33m)\u001b[0m\u001b[1;33m\u001b[0m\u001b[1;33m\u001b[0m\u001b[0m\n\u001b[0m\u001b[0;32m    464\u001b[0m     \u001b[1;32mif\u001b[0m \u001b[0mconfig\u001b[0m\u001b[1;33m.\u001b[0m\u001b[0muds\u001b[0m\u001b[1;33m:\u001b[0m\u001b[1;33m\u001b[0m\u001b[1;33m\u001b[0m\u001b[0m\n\u001b[0;32m    465\u001b[0m         \u001b[0mos\u001b[0m\u001b[1;33m.\u001b[0m\u001b[0mremove\u001b[0m\u001b[1;33m(\u001b[0m\u001b[0mconfig\u001b[0m\u001b[1;33m.\u001b[0m\u001b[0muds\u001b[0m\u001b[1;33m)\u001b[0m  \u001b[1;31m# pragma: py-win32\u001b[0m\u001b[1;33m\u001b[0m\u001b[1;33m\u001b[0m\u001b[0m\n",
      "\u001b[1;32m~\\anaconda3\\lib\\site-packages\\uvicorn\\server.py\u001b[0m in \u001b[0;36mrun\u001b[1;34m(self, sockets)\u001b[0m\n\u001b[0;32m     58\u001b[0m     \u001b[1;32mdef\u001b[0m \u001b[0mrun\u001b[0m\u001b[1;33m(\u001b[0m\u001b[0mself\u001b[0m\u001b[1;33m,\u001b[0m \u001b[0msockets\u001b[0m\u001b[1;33m:\u001b[0m \u001b[0mOptional\u001b[0m\u001b[1;33m[\u001b[0m\u001b[0mList\u001b[0m\u001b[1;33m[\u001b[0m\u001b[0msocket\u001b[0m\u001b[1;33m.\u001b[0m\u001b[0msocket\u001b[0m\u001b[1;33m]\u001b[0m\u001b[1;33m]\u001b[0m \u001b[1;33m=\u001b[0m \u001b[1;32mNone\u001b[0m\u001b[1;33m)\u001b[0m \u001b[1;33m->\u001b[0m \u001b[1;32mNone\u001b[0m\u001b[1;33m:\u001b[0m\u001b[1;33m\u001b[0m\u001b[1;33m\u001b[0m\u001b[0m\n\u001b[0;32m     59\u001b[0m         \u001b[0mself\u001b[0m\u001b[1;33m.\u001b[0m\u001b[0mconfig\u001b[0m\u001b[1;33m.\u001b[0m\u001b[0msetup_event_loop\u001b[0m\u001b[1;33m(\u001b[0m\u001b[1;33m)\u001b[0m\u001b[1;33m\u001b[0m\u001b[1;33m\u001b[0m\u001b[0m\n\u001b[1;32m---> 60\u001b[1;33m         \u001b[1;32mreturn\u001b[0m \u001b[0masyncio\u001b[0m\u001b[1;33m.\u001b[0m\u001b[0mrun\u001b[0m\u001b[1;33m(\u001b[0m\u001b[0mself\u001b[0m\u001b[1;33m.\u001b[0m\u001b[0mserve\u001b[0m\u001b[1;33m(\u001b[0m\u001b[0msockets\u001b[0m\u001b[1;33m=\u001b[0m\u001b[0msockets\u001b[0m\u001b[1;33m)\u001b[0m\u001b[1;33m)\u001b[0m\u001b[1;33m\u001b[0m\u001b[1;33m\u001b[0m\u001b[0m\n\u001b[0m\u001b[0;32m     61\u001b[0m \u001b[1;33m\u001b[0m\u001b[0m\n\u001b[0;32m     62\u001b[0m     \u001b[1;32masync\u001b[0m \u001b[1;32mdef\u001b[0m \u001b[0mserve\u001b[0m\u001b[1;33m(\u001b[0m\u001b[0mself\u001b[0m\u001b[1;33m,\u001b[0m \u001b[0msockets\u001b[0m\u001b[1;33m:\u001b[0m \u001b[0mOptional\u001b[0m\u001b[1;33m[\u001b[0m\u001b[0mList\u001b[0m\u001b[1;33m[\u001b[0m\u001b[0msocket\u001b[0m\u001b[1;33m.\u001b[0m\u001b[0msocket\u001b[0m\u001b[1;33m]\u001b[0m\u001b[1;33m]\u001b[0m \u001b[1;33m=\u001b[0m \u001b[1;32mNone\u001b[0m\u001b[1;33m)\u001b[0m \u001b[1;33m->\u001b[0m \u001b[1;32mNone\u001b[0m\u001b[1;33m:\u001b[0m\u001b[1;33m\u001b[0m\u001b[1;33m\u001b[0m\u001b[0m\n",
      "\u001b[1;32m~\\anaconda3\\lib\\asyncio\\runners.py\u001b[0m in \u001b[0;36mrun\u001b[1;34m(main, debug)\u001b[0m\n\u001b[0;32m     31\u001b[0m     \"\"\"\n\u001b[0;32m     32\u001b[0m     \u001b[1;32mif\u001b[0m \u001b[0mevents\u001b[0m\u001b[1;33m.\u001b[0m\u001b[0m_get_running_loop\u001b[0m\u001b[1;33m(\u001b[0m\u001b[1;33m)\u001b[0m \u001b[1;32mis\u001b[0m \u001b[1;32mnot\u001b[0m \u001b[1;32mNone\u001b[0m\u001b[1;33m:\u001b[0m\u001b[1;33m\u001b[0m\u001b[1;33m\u001b[0m\u001b[0m\n\u001b[1;32m---> 33\u001b[1;33m         raise RuntimeError(\n\u001b[0m\u001b[0;32m     34\u001b[0m             \"asyncio.run() cannot be called from a running event loop\")\n\u001b[0;32m     35\u001b[0m \u001b[1;33m\u001b[0m\u001b[0m\n",
      "\u001b[1;31mRuntimeError\u001b[0m: asyncio.run() cannot be called from a running event loop"
     ]
    }
   ],
   "source": [
    "import pickle\n",
    "from pydoc import locate\n",
    "from typing import List\n",
    "import xgboost as xgb\n",
    "\n",
    "import numpy as np\n",
    "import uvicorn\n",
    "from fastapi import FastAPI\n",
    "from pydantic import BaseModel\n",
    "\n",
    "model = pickle.load(open(\"model.dat\", \"rb\"))\n",
    "#model = xgb.Booster()\n",
    "#model.load_model(\"model.json\")\n",
    "\n",
    "\n",
    "def create_type_instance(type_name: str):\n",
    "    return locate(type_name).__call__()\n",
    "\n",
    "\n",
    "def get_features_dict(model):\n",
    "    d1=model.get_score()\n",
    "    feature_types = [type(k) for k in d1.keys()]\n",
    "    feature_names = model.get_score().keys()\n",
    "    feature_types = list(map(create_type_instance, model.feature_types))\n",
    "    return dict(zip(feature_names, feature_types))\n",
    "\n",
    "\n",
    "def create_input_features_class(model):\n",
    "    return type(\"InputFeatures\", (BaseModel,), get_features_dict(model))\n",
    "\n",
    "\n",
    "InputFeatures = create_input_features_class(model)\n",
    "app = FastAPI()\n",
    "\n",
    "\n",
    "@app.post(\"/predict\", response_model=List)\n",
    "async def predict_post(datas: List[InputFeatures]):\n",
    "    return model.predict(np.asarray([list(data.__dict__.values()) for data in datas])).tolist()\n",
    "\n",
    "\n",
    "if __name__ == \"__main__\":\n",
    "    print(get_features_dict(model))\n",
    "    uvicorn.run(app, host=\"0.0.0.0\", port=8081)"
   ]
  },
  {
   "cell_type": "code",
   "execution_count": 13,
   "metadata": {},
   "outputs": [
    {
     "data": {
      "text/plain": [
       "dict_keys(['program_type', 'loan_investment_amount', 'ssbci_original_funds', 'nonprivate_amount', 'concurrent_private_financing', 'guaranteed_amount', 'collateral_support', 'ssbci_recycled_funds', 'subsequent_private_financing', 'metro_type', 'LMI_type', 'revenue', 'naics_code', 'year_incorporated', 'jobs_retained', 'CDFI_type', 'SPY_Close', 'U_Rate'])"
      ]
     },
     "execution_count": 13,
     "metadata": {},
     "output_type": "execute_result"
    }
   ],
   "source": [
    "#from pydoc import locate\n",
    "\n",
    "#def create_type_instance(type_name: str):\n",
    " #   return locate(type_name).__call__()\n",
    "\n",
    "d1=model.get_score()\n",
    "feature_types = [type(k) for k in d1.keys()]\n",
    "feature_names = model.get_score().keys()\n",
    "#feature_types = list(map(create_type_instance, feature_names))\n",
    "#dict(zip(feature_names, feature_types))\n",
    "feature_names"
   ]
  },
  {
   "cell_type": "code",
   "execution_count": 3,
   "metadata": {},
   "outputs": [],
   "source": [
    "import pickle\n",
    "model = pickle.load(open(\"model.dat\", \"rb\"))"
   ]
  },
  {
   "cell_type": "code",
   "execution_count": 34,
   "metadata": {},
   "outputs": [
    {
     "data": {
      "text/plain": [
       "[str, str, str, str, str, str, str, str, str, str, str, str, str]"
      ]
     },
     "execution_count": 34,
     "metadata": {},
     "output_type": "execute_result"
    }
   ],
   "source": [
    "d1=model.get_score()\n",
    "types1 = [type(k) for k in d1.keys()]\n",
    "types1"
   ]
  },
  {
   "cell_type": "code",
   "execution_count": 2,
   "metadata": {},
   "outputs": [
    {
     "name": "stdout",
     "output_type": "stream",
     "text": [
      "Collecting uvicorn[standard]\n",
      "  Downloading uvicorn-0.17.6-py3-none-any.whl (53 kB)\n",
      "Collecting asgiref>=3.4.0\n",
      "  Downloading asgiref-3.5.1-py3-none-any.whl (22 kB)\n",
      "Collecting h11>=0.8\n",
      "  Downloading h11-0.13.0-py3-none-any.whl (58 kB)\n",
      "Requirement already satisfied: click>=7.0 in c:\\users\\ljman\\anaconda3\\lib\\site-packages (from uvicorn[standard]) (8.0.3)\n",
      "Collecting httptools>=0.4.0\n",
      "  Downloading httptools-0.4.0-cp39-cp39-win_amd64.whl (143 kB)\n",
      "Collecting python-dotenv>=0.13\n",
      "  Downloading python_dotenv-0.20.0-py3-none-any.whl (17 kB)\n",
      "Requirement already satisfied: PyYAML>=5.1 in c:\\users\\ljman\\anaconda3\\lib\\site-packages (from uvicorn[standard]) (6.0)\n",
      "Collecting websockets>=10.0\n",
      "  Downloading websockets-10.3-cp39-cp39-win_amd64.whl (98 kB)\n",
      "Requirement already satisfied: colorama>=0.4 in c:\\users\\ljman\\anaconda3\\lib\\site-packages (from uvicorn[standard]) (0.4.4)\n",
      "Collecting watchgod>=0.6\n",
      "  Downloading watchgod-0.8.2-py3-none-any.whl (12 kB)\n",
      "Collecting anyio<4,>=3.0.0\n",
      "  Downloading anyio-3.6.1-py3-none-any.whl (80 kB)\n",
      "Requirement already satisfied: sniffio>=1.1 in c:\\users\\ljman\\anaconda3\\lib\\site-packages (from anyio<4,>=3.0.0->watchgod>=0.6->uvicorn[standard]) (1.2.0)\n",
      "Requirement already satisfied: idna>=2.8 in c:\\users\\ljman\\anaconda3\\lib\\site-packages (from anyio<4,>=3.0.0->watchgod>=0.6->uvicorn[standard]) (3.2)\n",
      "Installing collected packages: h11, asgiref, anyio, websockets, watchgod, uvicorn, python-dotenv, httptools\n",
      "  Attempting uninstall: anyio\n",
      "    Found existing installation: anyio 2.2.0\n",
      "    Uninstalling anyio-2.2.0:\n",
      "      Successfully uninstalled anyio-2.2.0\n",
      "Successfully installed anyio-3.6.1 asgiref-3.5.1 h11-0.13.0 httptools-0.4.0 python-dotenv-0.20.0 uvicorn-0.17.6 watchgod-0.8.2 websockets-10.3\n",
      "Note: you may need to restart the kernel to use updated packages.\n"
     ]
    }
   ],
   "source": [
    "pip install \"uvicorn[standard]\""
   ]
  },
  {
   "cell_type": "code",
   "execution_count": 3,
   "metadata": {},
   "outputs": [
    {
     "name": "stdout",
     "output_type": "stream",
     "text": [
      "Collecting fastapiNote: you may need to restart the kernel to use updated packages.\n",
      "  Downloading fastapi-0.77.1-py3-none-any.whl (54 kB)\n",
      "Collecting starlette==0.19.1\n",
      "  Downloading starlette-0.19.1-py3-none-any.whl (63 kB)\n",
      "Collecting pydantic!=1.7,!=1.7.1,!=1.7.2,!=1.7.3,!=1.8,!=1.8.1,<2.0.0,>=1.6.2\n",
      "  Downloading pydantic-1.9.0-cp39-cp39-win_amd64.whl (2.1 MB)\n",
      "Requirement already satisfied: typing-extensions>=3.10.0 in c:\\users\\ljman\\anaconda3\\lib\\site-packages (from starlette==0.19.1->fastapi) (3.10.0.2)\n",
      "Requirement already satisfied: anyio<5,>=3.4.0 in c:\\users\\ljman\\anaconda3\\lib\\site-packages (from starlette==0.19.1->fastapi) (3.6.1)\n",
      "Requirement already satisfied: idna>=2.8 in c:\\users\\ljman\\anaconda3\\lib\\site-packages (from anyio<5,>=3.4.0->starlette==0.19.1->fastapi) (3.2)\n",
      "Requirement already satisfied: sniffio>=1.1 in c:\\users\\ljman\\anaconda3\\lib\\site-packages (from anyio<5,>=3.4.0->starlette==0.19.1->fastapi) (1.2.0)\n",
      "\n",
      "Installing collected packages: starlette, pydantic, fastapi\n",
      "Successfully installed fastapi-0.77.1 pydantic-1.9.0 starlette-0.19.1\n"
     ]
    }
   ],
   "source": [
    "pip install fastapi"
   ]
  },
  {
   "cell_type": "code",
   "execution_count": 4,
   "metadata": {},
   "outputs": [
    {
     "name": "stdout",
     "output_type": "stream",
     "text": [
      "Requirement already satisfied: pydantic in c:\\users\\ljman\\anaconda3\\lib\\site-packages (1.9.0)\n",
      "Requirement already satisfied: typing-extensions>=3.7.4.3 in c:\\users\\ljman\\anaconda3\\lib\\site-packages (from pydantic) (3.10.0.2)\n",
      "Note: you may need to restart the kernel to use updated packages.\n"
     ]
    }
   ],
   "source": [
    "pip install pydantic"
   ]
  },
  {
   "cell_type": "code",
   "execution_count": 2,
   "metadata": {},
   "outputs": [
    {
     "name": "stdout",
     "output_type": "stream",
     "text": [
      "Requirement already satisfied: fastapi[all] in c:\\users\\ljman\\anaconda3\\lib\\site-packages (0.77.1)\n",
      "Requirement already satisfied: starlette==0.19.1 in c:\\users\\ljman\\anaconda3\\lib\\site-packages (from fastapi[all]) (0.19.1)\n",
      "Requirement already satisfied: pydantic!=1.7,!=1.7.1,!=1.7.2,!=1.7.3,!=1.8,!=1.8.1,<2.0.0,>=1.6.2 in c:\\users\\ljman\\anaconda3\\lib\\site-packages (from fastapi[all]) (1.9.0)\n",
      "Requirement already satisfied: requests<3.0.0,>=2.24.0 in c:\\users\\ljman\\anaconda3\\lib\\site-packages (from fastapi[all]) (2.26.0)\n",
      "Requirement already satisfied: jinja2<4.0.0,>=2.11.2 in c:\\users\\ljman\\anaconda3\\lib\\site-packages (from fastapi[all]) (2.11.3)\n",
      "Requirement already satisfied: uvicorn[standard]<0.18.0,>=0.12.0 in c:\\users\\ljman\\anaconda3\\lib\\site-packages (from fastapi[all]) (0.17.6)\n",
      "Collecting orjson<4.0.0,>=3.2.1\n",
      "  Using cached orjson-3.6.8-cp39-none-win_amd64.whl (184 kB)\n",
      "Requirement already satisfied: pyyaml<7.0.0,>=5.3.1 in c:\\users\\ljman\\anaconda3\\lib\\site-packages (from fastapi[all]) (6.0)\n",
      "Requirement already satisfied: ujson!=4.0.2,!=4.1.0,!=4.2.0,!=4.3.0,!=5.0.0,!=5.1.0,<6.0.0,>=4.0.1 in c:\\users\\ljman\\anaconda3\\lib\\site-packages (from fastapi[all]) (5.2.0)\n",
      "Collecting email_validator<2.0.0,>=1.1.1\n",
      "  Using cached email_validator-1.2.1-py2.py3-none-any.whl (22 kB)\n",
      "Collecting python-multipart<0.0.6,>=0.0.5\n",
      "  Using cached python_multipart-0.0.5-py3-none-any.whl\n",
      "Requirement already satisfied: itsdangerous<3.0.0,>=1.1.0 in c:\\users\\ljman\\anaconda3\\lib\\site-packages (from fastapi[all]) (2.0.1)\n",
      "Requirement already satisfied: typing-extensions>=3.10.0 in c:\\users\\ljman\\anaconda3\\lib\\site-packages (from starlette==0.19.1->fastapi[all]) (4.2.0)\n",
      "Requirement already satisfied: anyio<5,>=3.4.0 in c:\\users\\ljman\\anaconda3\\lib\\site-packages (from starlette==0.19.1->fastapi[all]) (3.6.1)\n",
      "Requirement already satisfied: idna>=2.8 in c:\\users\\ljman\\anaconda3\\lib\\site-packages (from anyio<5,>=3.4.0->starlette==0.19.1->fastapi[all]) (3.2)\n",
      "Requirement already satisfied: sniffio>=1.1 in c:\\users\\ljman\\anaconda3\\lib\\site-packages (from anyio<5,>=3.4.0->starlette==0.19.1->fastapi[all]) (1.2.0)\n",
      "Requirement already satisfied: dnspython>=1.15.0 in c:\\users\\ljman\\anaconda3\\lib\\site-packages (from email_validator<2.0.0,>=1.1.1->fastapi[all]) (2.2.1)\n",
      "Requirement already satisfied: MarkupSafe>=0.23 in c:\\users\\ljman\\anaconda3\\lib\\site-packages (from jinja2<4.0.0,>=2.11.2->fastapi[all]) (1.1.1)\n",
      "Requirement already satisfied: six>=1.4.0 in c:\\users\\ljman\\anaconda3\\lib\\site-packages (from python-multipart<0.0.6,>=0.0.5->fastapi[all]) (1.16.0)\n",
      "Requirement already satisfied: certifi>=2017.4.17 in c:\\users\\ljman\\anaconda3\\lib\\site-packages (from requests<3.0.0,>=2.24.0->fastapi[all]) (2021.10.8)\n",
      "Requirement already satisfied: urllib3<1.27,>=1.21.1 in c:\\users\\ljman\\anaconda3\\lib\\site-packages (from requests<3.0.0,>=2.24.0->fastapi[all]) (1.26.7)\n",
      "Requirement already satisfied: charset-normalizer~=2.0.0 in c:\\users\\ljman\\anaconda3\\lib\\site-packages (from requests<3.0.0,>=2.24.0->fastapi[all]) (2.0.4)\n",
      "Requirement already satisfied: h11>=0.8 in c:\\users\\ljman\\anaconda3\\lib\\site-packages (from uvicorn[standard]<0.18.0,>=0.12.0->fastapi[all]) (0.13.0)\n",
      "Requirement already satisfied: click>=7.0 in c:\\users\\ljman\\anaconda3\\lib\\site-packages (from uvicorn[standard]<0.18.0,>=0.12.0->fastapi[all]) (8.0.3)\n",
      "Requirement already satisfied: asgiref>=3.4.0 in c:\\users\\ljman\\anaconda3\\lib\\site-packages (from uvicorn[standard]<0.18.0,>=0.12.0->fastapi[all]) (3.5.1)\n",
      "Requirement already satisfied: httptools>=0.4.0 in c:\\users\\ljman\\anaconda3\\lib\\site-packages (from uvicorn[standard]<0.18.0,>=0.12.0->fastapi[all]) (0.4.0)\n",
      "Requirement already satisfied: watchgod>=0.6 in c:\\users\\ljman\\anaconda3\\lib\\site-packages (from uvicorn[standard]<0.18.0,>=0.12.0->fastapi[all]) (0.8.2)\n",
      "Requirement already satisfied: colorama>=0.4 in c:\\users\\ljman\\anaconda3\\lib\\site-packages (from uvicorn[standard]<0.18.0,>=0.12.0->fastapi[all]) (0.4.4)\n",
      "Requirement already satisfied: websockets>=10.0 in c:\\users\\ljman\\anaconda3\\lib\\site-packages (from uvicorn[standard]<0.18.0,>=0.12.0->fastapi[all]) (10.3)\n",
      "Requirement already satisfied: python-dotenv>=0.13 in c:\\users\\ljman\\anaconda3\\lib\\site-packages (from uvicorn[standard]<0.18.0,>=0.12.0->fastapi[all]) (0.20.0)\n",
      "Installing collected packages: python-multipart, orjson, email-validator\n",
      "Successfully installed email-validator-1.2.1 orjson-3.6.8 python-multipart-0.0.5\n",
      "Note: you may need to restart the kernel to use updated packages.\n"
     ]
    }
   ],
   "source": [
    "pip install \"fastapi[all]\""
   ]
  },
  {
   "cell_type": "code",
   "execution_count": 6,
   "metadata": {},
   "outputs": [
    {
     "name": "stdout",
     "output_type": "stream",
     "text": [
      "Collecting package metadata (current_repodata.json): ...working... done\n",
      "Solving environment: ...working... \n",
      "\n",
      "Updating werkzeug is constricted by \n",
      "\n",
      "anaconda -> requires werkzeug==2.0.2=pyhd3eb1b0_0\n",
      "\n",
      "If you are sure you want an update of your package either try `conda update --all` or install a specific version of the package you want using `conda install <pkg>=<version>`\n",
      "\n",
      "done\n",
      "\n",
      "## Package Plan ##\n",
      "\n",
      "  environment location: C:\\Users\\ljman\\anaconda3\n",
      "\n",
      "  added / updated specs:\n",
      "    - werkzeug\n",
      "\n",
      "\n",
      "The following packages will be downloaded:\n",
      "\n",
      "    package                    |            build\n",
      "    ---------------------------|-----------------\n",
      "    conda-4.12.0               |   py39haa95532_0        14.5 MB\n",
      "    conda-package-handling-1.8.1|   py39h8cc25b3_0         729 KB\n",
      "    ------------------------------------------------------------\n",
      "                                           Total:        15.2 MB\n",
      "\n",
      "Note: you may need to restart the kernel to use updated packages.\n",
      "\n",
      "The following packages will be REMOVED:\n",
      "\n",
      "  xmltodict-0.12.0-pyhd3eb1b0_0\n",
      "\n",
      "The following packages will be UPDATED:\n",
      "\n",
      "  conda                               4.11.0-py39haa95532_0 --> 4.12.0-py39haa95532_0\n",
      "  conda-package-han~                   1.7.3-py39h8cc25b3_1 --> 1.8.1-py39h8cc25b3_0\n",
      "\n",
      "\n",
      "\n",
      "Downloading and Extracting Packages\n",
      "\n",
      "conda-4.12.0         | 14.5 MB   |            |   0% \n",
      "conda-4.12.0         | 14.5 MB   |            |   1% \n",
      "conda-4.12.0         | 14.5 MB   | 4          |   4% \n",
      "conda-4.12.0         | 14.5 MB   | #1         |  11% \n",
      "conda-4.12.0         | 14.5 MB   | #5         |  16% \n",
      "conda-4.12.0         | 14.5 MB   | ##3        |  23% \n",
      "conda-4.12.0         | 14.5 MB   | ##8        |  29% \n",
      "conda-4.12.0         | 14.5 MB   | ###4       |  34% \n",
      "conda-4.12.0         | 14.5 MB   | ###9       |  40% \n",
      "conda-4.12.0         | 14.5 MB   | ####4      |  45% \n",
      "conda-4.12.0         | 14.5 MB   | #####      |  50% \n",
      "conda-4.12.0         | 14.5 MB   | #####6     |  57% \n",
      "conda-4.12.0         | 14.5 MB   | ######2    |  62% \n",
      "conda-4.12.0         | 14.5 MB   | ######7    |  68% \n",
      "conda-4.12.0         | 14.5 MB   | #######3   |  74% \n",
      "conda-4.12.0         | 14.5 MB   | #######9   |  79% \n",
      "conda-4.12.0         | 14.5 MB   | ########4  |  85% \n",
      "conda-4.12.0         | 14.5 MB   | #########  |  91% \n",
      "conda-4.12.0         | 14.5 MB   | #########6 |  97% \n",
      "conda-4.12.0         | 14.5 MB   | ########## | 100% \n",
      "\n",
      "conda-package-handli | 729 KB    |            |   0% \n",
      "conda-package-handli | 729 KB    | #######8   |  79% \n",
      "conda-package-handli | 729 KB    | ########## | 100% \n",
      "Preparing transaction: ...working... done\n",
      "Verifying transaction: ...working... done\n",
      "Executing transaction: ...working... done\n"
     ]
    }
   ],
   "source": [
    "conda update Werkzeug"
   ]
  },
  {
   "cell_type": "code",
   "execution_count": 8,
   "metadata": {},
   "outputs": [
    {
     "name": "stdout",
     "output_type": "stream",
     "text": [
      "Requirement already satisfied: typing-extensions in c:\\users\\ljman\\anaconda3\\lib\\site-packages (3.10.0.2)\n",
      "Collecting typing-extensions\n",
      "  Downloading typing_extensions-4.2.0-py3-none-any.whl (24 kB)\n",
      "Installing collected packages: typing-extensions\n",
      "  Attempting uninstall: typing-extensions\n",
      "    Found existing installation: typing-extensions 3.10.0.2\n",
      "    Uninstalling typing-extensions-3.10.0.2:\n",
      "      Successfully uninstalled typing-extensions-3.10.0.2\n",
      "Note: you may need to restart the kernel to use updated packages.\n",
      "Successfully installed typing-extensions-4.2.0\n"
     ]
    }
   ],
   "source": [
    "pip install typing-extensions --upgrade"
   ]
  },
  {
   "cell_type": "code",
   "execution_count": null,
   "metadata": {},
   "outputs": [],
   "source": []
  }
 ],
 "metadata": {
  "kernelspec": {
   "display_name": "Python 3 (ipykernel)",
   "language": "python",
   "name": "python3"
  },
  "language_info": {
   "codemirror_mode": {
    "name": "ipython",
    "version": 3
   },
   "file_extension": ".py",
   "mimetype": "text/x-python",
   "name": "python",
   "nbconvert_exporter": "python",
   "pygments_lexer": "ipython3",
   "version": "3.9.7"
  }
 },
 "nbformat": 4,
 "nbformat_minor": 4
}
