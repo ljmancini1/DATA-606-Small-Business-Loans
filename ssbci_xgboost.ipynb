{
 "cells": [
  {
   "cell_type": "code",
   "execution_count": 1,
   "metadata": {},
   "outputs": [
    {
     "name": "stdout",
     "output_type": "stream",
     "text": [
      "Requirement already satisfied: xgboost in /Users/lenmancini/anaconda3/lib/python3.7/site-packages (1.6.1)\n",
      "Requirement already satisfied: numpy in /Users/lenmancini/anaconda3/lib/python3.7/site-packages (from xgboost) (1.21.6)\n",
      "Requirement already satisfied: scipy in /Users/lenmancini/anaconda3/lib/python3.7/site-packages (from xgboost) (1.7.3)\n",
      "Note: you may need to restart the kernel to use updated packages.\n"
     ]
    }
   ],
   "source": [
    "pip install xgboost"
   ]
  },
  {
   "cell_type": "code",
   "execution_count": 2,
   "metadata": {},
   "outputs": [],
   "source": [
    "import pandas as pd\n",
    "import xgboost as xgb\n",
    "from sklearn.metrics import accuracy_score"
   ]
  },
  {
   "cell_type": "code",
   "execution_count": 3,
   "metadata": {},
   "outputs": [
    {
     "data": {
      "text/html": [
       "<div>\n",
       "<style scoped>\n",
       "    .dataframe tbody tr th:only-of-type {\n",
       "        vertical-align: middle;\n",
       "    }\n",
       "\n",
       "    .dataframe tbody tr th {\n",
       "        vertical-align: top;\n",
       "    }\n",
       "\n",
       "    .dataframe thead th {\n",
       "        text-align: right;\n",
       "    }\n",
       "</style>\n",
       "<table border=\"1\" class=\"dataframe\">\n",
       "  <thead>\n",
       "    <tr style=\"text-align: right;\">\n",
       "      <th></th>\n",
       "      <th>program_type</th>\n",
       "      <th>loan_investment_amount</th>\n",
       "      <th>ssbci_original_funds</th>\n",
       "      <th>nonprivate_amount</th>\n",
       "      <th>concurrent_private_financing</th>\n",
       "      <th>guaranteed_amount</th>\n",
       "      <th>collateral_support</th>\n",
       "      <th>ssbci_recycled_funds</th>\n",
       "      <th>subsequent_private_financing</th>\n",
       "      <th>metro_type</th>\n",
       "      <th>LMI_type</th>\n",
       "      <th>revenue</th>\n",
       "      <th>naics_code</th>\n",
       "      <th>year_incorporated</th>\n",
       "      <th>trans_type</th>\n",
       "      <th>CDFI_type</th>\n",
       "      <th>SPY_Close</th>\n",
       "      <th>U_Rate</th>\n",
       "      <th>creation_status</th>\n",
       "    </tr>\n",
       "  </thead>\n",
       "  <tbody>\n",
       "    <tr>\n",
       "      <th>0</th>\n",
       "      <td>4</td>\n",
       "      <td>180000.0</td>\n",
       "      <td>90000.0</td>\n",
       "      <td>0.0</td>\n",
       "      <td>0.0</td>\n",
       "      <td>0.0</td>\n",
       "      <td>0.0</td>\n",
       "      <td>0.0</td>\n",
       "      <td>0.0</td>\n",
       "      <td>0</td>\n",
       "      <td>1</td>\n",
       "      <td>0.0</td>\n",
       "      <td>681</td>\n",
       "      <td>103</td>\n",
       "      <td>1</td>\n",
       "      <td>2</td>\n",
       "      <td>152.110001</td>\n",
       "      <td>7.5</td>\n",
       "      <td>1.0</td>\n",
       "    </tr>\n",
       "    <tr>\n",
       "      <th>1</th>\n",
       "      <td>4</td>\n",
       "      <td>2400000.0</td>\n",
       "      <td>250000.0</td>\n",
       "      <td>0.0</td>\n",
       "      <td>0.0</td>\n",
       "      <td>0.0</td>\n",
       "      <td>0.0</td>\n",
       "      <td>0.0</td>\n",
       "      <td>1520000.0</td>\n",
       "      <td>0</td>\n",
       "      <td>0</td>\n",
       "      <td>0.0</td>\n",
       "      <td>439</td>\n",
       "      <td>102</td>\n",
       "      <td>1</td>\n",
       "      <td>2</td>\n",
       "      <td>167.509995</td>\n",
       "      <td>7.3</td>\n",
       "      <td>1.0</td>\n",
       "    </tr>\n",
       "    <tr>\n",
       "      <th>2</th>\n",
       "      <td>4</td>\n",
       "      <td>265000.0</td>\n",
       "      <td>110000.0</td>\n",
       "      <td>0.0</td>\n",
       "      <td>0.0</td>\n",
       "      <td>0.0</td>\n",
       "      <td>0.0</td>\n",
       "      <td>0.0</td>\n",
       "      <td>0.0</td>\n",
       "      <td>0</td>\n",
       "      <td>1</td>\n",
       "      <td>0.0</td>\n",
       "      <td>681</td>\n",
       "      <td>103</td>\n",
       "      <td>1</td>\n",
       "      <td>2</td>\n",
       "      <td>183.820007</td>\n",
       "      <td>6.7</td>\n",
       "      <td>1.0</td>\n",
       "    </tr>\n",
       "    <tr>\n",
       "      <th>3</th>\n",
       "      <td>4</td>\n",
       "      <td>199500.0</td>\n",
       "      <td>99750.0</td>\n",
       "      <td>0.0</td>\n",
       "      <td>0.0</td>\n",
       "      <td>0.0</td>\n",
       "      <td>0.0</td>\n",
       "      <td>0.0</td>\n",
       "      <td>0.0</td>\n",
       "      <td>0</td>\n",
       "      <td>1</td>\n",
       "      <td>0.0</td>\n",
       "      <td>378</td>\n",
       "      <td>104</td>\n",
       "      <td>1</td>\n",
       "      <td>2</td>\n",
       "      <td>181.509995</td>\n",
       "      <td>6.2</td>\n",
       "      <td>1.0</td>\n",
       "    </tr>\n",
       "    <tr>\n",
       "      <th>4</th>\n",
       "      <td>4</td>\n",
       "      <td>125000.0</td>\n",
       "      <td>62500.0</td>\n",
       "      <td>0.0</td>\n",
       "      <td>125000.0</td>\n",
       "      <td>0.0</td>\n",
       "      <td>0.0</td>\n",
       "      <td>0.0</td>\n",
       "      <td>0.0</td>\n",
       "      <td>0</td>\n",
       "      <td>0</td>\n",
       "      <td>1494916.0</td>\n",
       "      <td>519</td>\n",
       "      <td>97</td>\n",
       "      <td>1</td>\n",
       "      <td>2</td>\n",
       "      <td>187.399994</td>\n",
       "      <td>6.3</td>\n",
       "      <td>1.0</td>\n",
       "    </tr>\n",
       "  </tbody>\n",
       "</table>\n",
       "</div>"
      ],
      "text/plain": [
       "   program_type  loan_investment_amount  ssbci_original_funds  \\\n",
       "0             4                180000.0               90000.0   \n",
       "1             4               2400000.0              250000.0   \n",
       "2             4                265000.0              110000.0   \n",
       "3             4                199500.0               99750.0   \n",
       "4             4                125000.0               62500.0   \n",
       "\n",
       "   nonprivate_amount  concurrent_private_financing  guaranteed_amount  \\\n",
       "0                0.0                           0.0                0.0   \n",
       "1                0.0                           0.0                0.0   \n",
       "2                0.0                           0.0                0.0   \n",
       "3                0.0                           0.0                0.0   \n",
       "4                0.0                      125000.0                0.0   \n",
       "\n",
       "   collateral_support  ssbci_recycled_funds  subsequent_private_financing  \\\n",
       "0                 0.0                   0.0                           0.0   \n",
       "1                 0.0                   0.0                     1520000.0   \n",
       "2                 0.0                   0.0                           0.0   \n",
       "3                 0.0                   0.0                           0.0   \n",
       "4                 0.0                   0.0                           0.0   \n",
       "\n",
       "   metro_type  LMI_type    revenue  naics_code  year_incorporated  trans_type  \\\n",
       "0           0         1        0.0         681                103           1   \n",
       "1           0         0        0.0         439                102           1   \n",
       "2           0         1        0.0         681                103           1   \n",
       "3           0         1        0.0         378                104           1   \n",
       "4           0         0  1494916.0         519                 97           1   \n",
       "\n",
       "   CDFI_type   SPY_Close  U_Rate  creation_status  \n",
       "0          2  152.110001     7.5              1.0  \n",
       "1          2  167.509995     7.3              1.0  \n",
       "2          2  183.820007     6.7              1.0  \n",
       "3          2  181.509995     6.2              1.0  \n",
       "4          2  187.399994     6.3              1.0  "
      ]
     },
     "execution_count": 3,
     "metadata": {},
     "output_type": "execute_result"
    }
   ],
   "source": [
    "df = pd.read_csv(\"SSBCI_data.csv\")\n",
    "df.drop(['state_id','full_time_employees','job_benefit', 'Unnamed: 0','borrower_insurance_premium',\n",
    "         'lender_insurance_premium'], axis=1, inplace=True)\n",
    "df.head()"
   ]
  },
  {
   "cell_type": "code",
   "execution_count": 4,
   "metadata": {},
   "outputs": [],
   "source": [
    "X = df.copy()\n",
    "X.drop(\"creation_status\", inplace = True, axis = 1)\n",
    "Y = df.creation_status"
   ]
  },
  {
   "cell_type": "code",
   "execution_count": 5,
   "metadata": {},
   "outputs": [],
   "source": [
    "X_train, X_test = X[:int(X.shape[0]*0.8)].values, X[int(X.shape[0]*0.8):].values\n",
    "Y_train, Y_test = Y[:int(X.shape[0]*0.8)].values, Y[int(X.shape[0]*0.8):].values\n",
    "                                                  "
   ]
  },
  {
   "cell_type": "code",
   "execution_count": null,
   "metadata": {},
   "outputs": [],
   "source": [
    "train = xgb.DMatrix(X_train, label = Y_train)\n",
    "test = xgb.DMatrix(X_test, label = Y_test)"
   ]
  },
  {
   "cell_type": "code",
   "execution_count": null,
   "metadata": {},
   "outputs": [],
   "source": [
    "param = {'max_depth' : 6, 'eta' : 0.1, 'verbosity' : 1, 'objective' : 'binary:hinge', \n",
    "         'eval_metric': 'aucpr', 'predictor':'cpu_predictor'}\n",
    "num_rounds = 5\n",
    "model = xgb.train(param, train, num_rounds)"
   ]
  },
  {
   "cell_type": "code",
   "execution_count": null,
   "metadata": {},
   "outputs": [],
   "source": [
    "preds = model.predict(test)"
   ]
  },
  {
   "cell_type": "code",
   "execution_count": null,
   "metadata": {},
   "outputs": [],
   "source": [
    "import pickle\n",
    "pickle.dump(model, open(\"model.dat\", \"wb\"))"
   ]
  },
  {
   "cell_type": "code",
   "execution_count": null,
   "metadata": {},
   "outputs": [],
   "source": [
    "from sklearn.metrics import confusion_matrix, accuracy_score, classification_report, precision_score, f1_score, recall_score\n",
    "\n",
    "print('Confusion matrix')\n",
    "print(confusion_matrix(Y_test, preds))\n",
    "acc = accuracy_score(Y_test, preds)\n",
    "print(f'Accuracy: {acc: .2%})\n",
    "pr = precision_score(Y_test, preds)\n",
    "print(f'Precision: {pr: .2%}')\n",
    "re = recall_score(Y_test, preds)\n",
    "print(f'Recall score: {re: .2%}')\n",
    "f1 = f1_score(Y_test, preds)\n",
    "print(f'F1 score: {f1: .2%}')"
   ]
  },
  {
   "cell_type": "code",
   "execution_count": null,
   "metadata": {},
   "outputs": [],
   "source": [
    "import shap\n",
    "\n",
    "explainer_km = shap.TreeExplainer(model)\n",
    "shap_values_km = explainer_km.shap_values(X)\n",
    "shap.summary_plot(shap_values_km, X, plot_type=\"bar\")"
   ]
  }
 ],
 "metadata": {
  "kernelspec": {
   "display_name": "Python 3",
   "language": "python",
   "name": "python3"
  },
  "language_info": {
   "codemirror_mode": {
    "name": "ipython",
    "version": 3
   },
   "file_extension": ".py",
   "mimetype": "text/x-python",
   "name": "python",
   "nbconvert_exporter": "python",
   "pygments_lexer": "ipython3",
   "version": "3.7.3"
  }
 },
 "nbformat": 4,
 "nbformat_minor": 5
}
